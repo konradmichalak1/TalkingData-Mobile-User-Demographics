{
 "cells": [
  {
   "cell_type": "markdown",
   "metadata": {},
   "source": [
    "# Realizacja Konkursu Kaggle "
   ]
  },
  {
   "cell_type": "markdown",
   "metadata": {},
   "source": [
    "## Gromadzenie i analiza danych o użytkownikach mobilnych"
   ]
  },
  {
   "cell_type": "markdown",
   "metadata": {},
   "source": [
    " "
   ]
  },
  {
   "cell_type": "markdown",
   "metadata": {},
   "source": [
    "## Implementacja"
   ]
  },
  {
   "cell_type": "code",
   "execution_count": 2,
   "metadata": {},
   "outputs": [],
   "source": [
    "# biblioteki do analizy danych\n",
    "import pandas as pd\n",
    "import numpy as np\n",
    "\n",
    "# biblioteki do wizualizacji danych\n",
    "import matplotlib.pyplot as plt\n",
    "import seaborn as sns\n",
    "\n",
    "# biblioteki do uczenia maszynowego\n",
    "from sklearn.linear_model import LogisticRegression\n",
    "from sklearn.ensemble import RandomForestClassifier\n",
    "from sklearn.ensemble import AdaBoostClassifier\n",
    "from sklearn.ensemble import GradientBoostingClassifier\n",
    "from sklearn.svm import SVC\n",
    "from sklearn.neighbors import KNeighborsClassifier\n",
    "\n",
    "source = 'E:\\Kaggle\\TSI\\konkurs kaggle - data/'"
   ]
  },
  {
   "cell_type": "code",
   "execution_count": 3,
   "metadata": {},
   "outputs": [],
   "source": [
    "# wczytanie danych\n",
    "app_events = pd.read_csv(source+'app_events.csv', sep=',')\n",
    "app_labels = pd.read_csv(source+'app_labels.csv', sep=',')\n",
    "events = pd.read_csv(source+'events.csv', sep=',')\n",
    "gender_age_test = pd.read_csv(source+'gender_age_test.csv', sep=',')\n",
    "gender_age_train = pd.read_csv(source+'gender_age_train.csv', sep=',')\n",
    "label_categories = pd.read_csv(source+'label_categories.csv', sep=',')\n",
    "phone_brands = pd.read_csv(source+'phone_brands.csv', sep=',')"
   ]
  },
  {
   "cell_type": "markdown",
   "metadata": {},
   "source": [
    "### 1) Analiza cech "
   ]
  },
  {
   "cell_type": "markdown",
   "metadata": {},
   "source": [
    "#### Analiza label_categories\n",
    "Analizowana jest zmieniona wersja label_categories - usunięte zostały najmniej popularne kategorie istniejące łączeni na około 20% różnych urządzeń. Takie rozwiązanie zmniejszyło liczbę kategorii z 450 różnych, do dokładnie 107 najpopularniejszych, co korzystnie wpłynie na czas wykonywania obliczeń."
   ]
  },
  {
   "cell_type": "code",
   "execution_count": 7,
   "metadata": {},
   "outputs": [
    {
     "data": {
      "text/plain": [
       "label_id    107\n",
       "category    107\n",
       "dtype: int64"
      ]
     },
     "execution_count": 7,
     "metadata": {},
     "output_type": "execute_result"
    }
   ],
   "source": [
    "# Liczba wypełnionych wierszy danej kolumny\n",
    "label_categories.count()"
   ]
  },
  {
   "cell_type": "code",
   "execution_count": 8,
   "metadata": {},
   "outputs": [
    {
     "data": {
      "text/plain": [
       "label_id    0\n",
       "category    0\n",
       "dtype: int64"
      ]
     },
     "execution_count": 8,
     "metadata": {},
     "output_type": "execute_result"
    }
   ],
   "source": [
    "# Liczba pustych wierszy danej kolumny\n",
    "label_categories.isnull().sum()"
   ]
  },
  {
   "cell_type": "markdown",
   "metadata": {},
   "source": [
    " "
   ]
  },
  {
   "cell_type": "markdown",
   "metadata": {},
   "source": [
    "Liczba powtórzeń konkretnej kategorii - występuje łącznie 7 powtórzeń, uzyskany wektor One-Hot powinien zatem mieć\n",
    "dokładnie 107-7=100 kolumn + jedna przeznaczona na label_id"
   ]
  },
  {
   "cell_type": "code",
   "execution_count": 6,
   "metadata": {
    "scrolled": true
   },
   "outputs": [
    {
     "data": {
      "text/plain": [
       "category\n",
       "unknown                              4\n",
       "Pay                                  2\n",
       "mobile bank                          2\n",
       "Personal Effectiveness               2\n",
       "P2P                                  2\n",
       "Accounting                           1\n",
       "Irritation / Fun 1                   1\n",
       "High-speed rail train reservation    1\n",
       "Higher income                        1\n",
       "IM                                   1\n",
       "IMF                                  1\n",
       "Industry tag                         1\n",
       "Integrated Air Travel Booking        1\n",
       "Integrated Living                    1\n",
       "Internet Banking                     1\n",
       "Internet banking                     1\n",
       "Jobs                                 1\n",
       "Air Travel                           1\n",
       "Liquid medium                        1\n",
       "Low Risk                             1\n",
       "Low income                           1\n",
       "Low liquidity                        1\n",
       "Low profitability                    1\n",
       "Low risk                             1\n",
       "Moderate profitability               1\n",
       "Monetary Fund                        1\n",
       "1 reputation                         1\n",
       "High risk                            1\n",
       "High profitability                   1\n",
       "High mobility                        1\n",
       "                                    ..\n",
       "stock                                1\n",
       "the film                             1\n",
       "tourism product                      1\n",
       "train                                1\n",
       "travel                               1\n",
       "fixed income                         1\n",
       "financial                            1\n",
       "fashion                              1\n",
       "Securities                           1\n",
       "Personal Effectiveness 1             1\n",
       "Property Industry 1.0                1\n",
       "Property Industry 2.0                1\n",
       "Property Industry new                1\n",
       "Pursuit 1                            1\n",
       "Quality 1                            1\n",
       "Relatives 1                          1\n",
       "Science and Technology               1\n",
       "Science and Technology 1             1\n",
       "Services 1                           1\n",
       "convenience services                 1\n",
       "Smart Shopping 1                     1\n",
       "Taxi                                 1\n",
       "Technology Information               1\n",
       "Tencent                              1\n",
       "Third party payment                  1\n",
       "Total Cost 1                         1\n",
       "Trendy / cool 1                      1\n",
       "Wealth Management                    1\n",
       "community                            1\n",
       "1 free                               1\n",
       "Name: label_id, Length: 100, dtype: int64"
      ]
     },
     "execution_count": 6,
     "metadata": {},
     "output_type": "execute_result"
    }
   ],
   "source": [
    "#Wyświetlenie powtarzających się kategorii\n",
    "label_categories_group = label_categories.groupby('category')['label_id']\n",
    "label_categories_group.nunique().sort_values(ascending=False)"
   ]
  },
  {
   "cell_type": "code",
   "execution_count": 9,
   "metadata": {},
   "outputs": [
    {
     "data": {
      "text/html": [
       "<div>\n",
       "<style scoped>\n",
       "    .dataframe tbody tr th:only-of-type {\n",
       "        vertical-align: middle;\n",
       "    }\n",
       "\n",
       "    .dataframe tbody tr th {\n",
       "        vertical-align: top;\n",
       "    }\n",
       "\n",
       "    .dataframe thead th {\n",
       "        text-align: right;\n",
       "    }\n",
       "</style>\n",
       "<table border=\"1\" class=\"dataframe\">\n",
       "  <thead>\n",
       "    <tr style=\"text-align: right;\">\n",
       "      <th></th>\n",
       "      <th>label_id</th>\n",
       "      <th>category</th>\n",
       "    </tr>\n",
       "  </thead>\n",
       "  <tbody>\n",
       "    <tr>\n",
       "      <th>0</th>\n",
       "      <td>1003</td>\n",
       "      <td>fashion</td>\n",
       "    </tr>\n",
       "    <tr>\n",
       "      <th>1</th>\n",
       "      <td>1007</td>\n",
       "      <td>P2P net loan</td>\n",
       "    </tr>\n",
       "    <tr>\n",
       "      <th>2</th>\n",
       "      <td>1008</td>\n",
       "      <td>Pay</td>\n",
       "    </tr>\n",
       "    <tr>\n",
       "      <th>3</th>\n",
       "      <td>1012</td>\n",
       "      <td>Internet Banking</td>\n",
       "    </tr>\n",
       "    <tr>\n",
       "      <th>4</th>\n",
       "      <td>1014</td>\n",
       "      <td>Consumer Finance</td>\n",
       "    </tr>\n",
       "  </tbody>\n",
       "</table>\n",
       "</div>"
      ],
      "text/plain": [
       "   label_id          category\n",
       "0      1003           fashion\n",
       "1      1007      P2P net loan\n",
       "2      1008               Pay\n",
       "3      1012  Internet Banking\n",
       "4      1014  Consumer Finance"
      ]
     },
     "execution_count": 9,
     "metadata": {},
     "output_type": "execute_result"
    }
   ],
   "source": [
    "label_categories.head()"
   ]
  },
  {
   "cell_type": "code",
   "execution_count": 10,
   "metadata": {},
   "outputs": [
    {
     "data": {
      "text/plain": [
       "(107, 2)"
      ]
     },
     "execution_count": 10,
     "metadata": {},
     "output_type": "execute_result"
    }
   ],
   "source": [
    "#Ostatecznie jest 107 kategorii o różnych ID\n",
    "label_categories.shape"
   ]
  },
  {
   "cell_type": "code",
   "execution_count": 11,
   "metadata": {},
   "outputs": [],
   "source": [
    "# wygenerowanie wektora One-Hot\n",
    "df = pd.get_dummies(label_categories['category'])"
   ]
  },
  {
   "cell_type": "code",
   "execution_count": 12,
   "metadata": {},
   "outputs": [],
   "source": [
    "# doklejenie label_id do wektora One-Hot, w celu późniejszego zmergowania tak powstałej tabeli z app_label\n",
    "frames = [label_categories.label_id, df]\n",
    "result = pd.concat(frames, axis=1)"
   ]
  },
  {
   "cell_type": "code",
   "execution_count": 13,
   "metadata": {},
   "outputs": [
    {
     "data": {
      "text/plain": [
       "(107, 101)"
      ]
     },
     "execution_count": 13,
     "metadata": {},
     "output_type": "execute_result"
    }
   ],
   "source": [
    "# weryfikacja, czy uzyskaliśmy dokładnie taki rozmiar jakiego oczekiwaliśmy.\n",
    "result.shape"
   ]
  },
  {
   "cell_type": "code",
   "execution_count": 14,
   "metadata": {},
   "outputs": [
    {
     "data": {
      "text/html": [
       "<div>\n",
       "<style scoped>\n",
       "    .dataframe tbody tr th:only-of-type {\n",
       "        vertical-align: middle;\n",
       "    }\n",
       "\n",
       "    .dataframe tbody tr th {\n",
       "        vertical-align: top;\n",
       "    }\n",
       "\n",
       "    .dataframe thead th {\n",
       "        text-align: right;\n",
       "    }\n",
       "</style>\n",
       "<table border=\"1\" class=\"dataframe\">\n",
       "  <thead>\n",
       "    <tr style=\"text-align: right;\">\n",
       "      <th></th>\n",
       "      <th>label_id</th>\n",
       "      <th>1 free</th>\n",
       "      <th>1 reputation</th>\n",
       "      <th>A shares</th>\n",
       "      <th>Accounting</th>\n",
       "      <th>Air Travel</th>\n",
       "      <th>And the Church</th>\n",
       "      <th>Bank Credit Card</th>\n",
       "      <th>Bank financing</th>\n",
       "      <th>Booking channels</th>\n",
       "      <th>...</th>\n",
       "      <th>reading platform</th>\n",
       "      <th>service</th>\n",
       "      <th>stock</th>\n",
       "      <th>the film</th>\n",
       "      <th>tourism product</th>\n",
       "      <th>train</th>\n",
       "      <th>travel</th>\n",
       "      <th>unknown</th>\n",
       "      <th>video</th>\n",
       "      <th>weibo</th>\n",
       "    </tr>\n",
       "  </thead>\n",
       "  <tbody>\n",
       "    <tr>\n",
       "      <th>0</th>\n",
       "      <td>1003</td>\n",
       "      <td>0</td>\n",
       "      <td>0</td>\n",
       "      <td>0</td>\n",
       "      <td>0</td>\n",
       "      <td>0</td>\n",
       "      <td>0</td>\n",
       "      <td>0</td>\n",
       "      <td>0</td>\n",
       "      <td>0</td>\n",
       "      <td>...</td>\n",
       "      <td>0</td>\n",
       "      <td>0</td>\n",
       "      <td>0</td>\n",
       "      <td>0</td>\n",
       "      <td>0</td>\n",
       "      <td>0</td>\n",
       "      <td>0</td>\n",
       "      <td>0</td>\n",
       "      <td>0</td>\n",
       "      <td>0</td>\n",
       "    </tr>\n",
       "    <tr>\n",
       "      <th>1</th>\n",
       "      <td>1007</td>\n",
       "      <td>0</td>\n",
       "      <td>0</td>\n",
       "      <td>0</td>\n",
       "      <td>0</td>\n",
       "      <td>0</td>\n",
       "      <td>0</td>\n",
       "      <td>0</td>\n",
       "      <td>0</td>\n",
       "      <td>0</td>\n",
       "      <td>...</td>\n",
       "      <td>0</td>\n",
       "      <td>0</td>\n",
       "      <td>0</td>\n",
       "      <td>0</td>\n",
       "      <td>0</td>\n",
       "      <td>0</td>\n",
       "      <td>0</td>\n",
       "      <td>0</td>\n",
       "      <td>0</td>\n",
       "      <td>0</td>\n",
       "    </tr>\n",
       "    <tr>\n",
       "      <th>2</th>\n",
       "      <td>1008</td>\n",
       "      <td>0</td>\n",
       "      <td>0</td>\n",
       "      <td>0</td>\n",
       "      <td>0</td>\n",
       "      <td>0</td>\n",
       "      <td>0</td>\n",
       "      <td>0</td>\n",
       "      <td>0</td>\n",
       "      <td>0</td>\n",
       "      <td>...</td>\n",
       "      <td>0</td>\n",
       "      <td>0</td>\n",
       "      <td>0</td>\n",
       "      <td>0</td>\n",
       "      <td>0</td>\n",
       "      <td>0</td>\n",
       "      <td>0</td>\n",
       "      <td>0</td>\n",
       "      <td>0</td>\n",
       "      <td>0</td>\n",
       "    </tr>\n",
       "    <tr>\n",
       "      <th>3</th>\n",
       "      <td>1012</td>\n",
       "      <td>0</td>\n",
       "      <td>0</td>\n",
       "      <td>0</td>\n",
       "      <td>0</td>\n",
       "      <td>0</td>\n",
       "      <td>0</td>\n",
       "      <td>0</td>\n",
       "      <td>0</td>\n",
       "      <td>0</td>\n",
       "      <td>...</td>\n",
       "      <td>0</td>\n",
       "      <td>0</td>\n",
       "      <td>0</td>\n",
       "      <td>0</td>\n",
       "      <td>0</td>\n",
       "      <td>0</td>\n",
       "      <td>0</td>\n",
       "      <td>0</td>\n",
       "      <td>0</td>\n",
       "      <td>0</td>\n",
       "    </tr>\n",
       "    <tr>\n",
       "      <th>4</th>\n",
       "      <td>1014</td>\n",
       "      <td>0</td>\n",
       "      <td>0</td>\n",
       "      <td>0</td>\n",
       "      <td>0</td>\n",
       "      <td>0</td>\n",
       "      <td>0</td>\n",
       "      <td>0</td>\n",
       "      <td>0</td>\n",
       "      <td>0</td>\n",
       "      <td>...</td>\n",
       "      <td>0</td>\n",
       "      <td>0</td>\n",
       "      <td>0</td>\n",
       "      <td>0</td>\n",
       "      <td>0</td>\n",
       "      <td>0</td>\n",
       "      <td>0</td>\n",
       "      <td>0</td>\n",
       "      <td>0</td>\n",
       "      <td>0</td>\n",
       "    </tr>\n",
       "  </tbody>\n",
       "</table>\n",
       "<p>5 rows × 101 columns</p>\n",
       "</div>"
      ],
      "text/plain": [
       "   label_id  1 free  1 reputation  A shares  Accounting  Air Travel  \\\n",
       "0      1003       0             0         0           0           0   \n",
       "1      1007       0             0         0           0           0   \n",
       "2      1008       0             0         0           0           0   \n",
       "3      1012       0             0         0           0           0   \n",
       "4      1014       0             0         0           0           0   \n",
       "\n",
       "   And the Church  Bank Credit Card  Bank financing  Booking channels  ...    \\\n",
       "0               0                 0               0                 0  ...     \n",
       "1               0                 0               0                 0  ...     \n",
       "2               0                 0               0                 0  ...     \n",
       "3               0                 0               0                 0  ...     \n",
       "4               0                 0               0                 0  ...     \n",
       "\n",
       "   reading platform  service  stock  the film  tourism product  train  travel  \\\n",
       "0                 0        0      0         0                0      0       0   \n",
       "1                 0        0      0         0                0      0       0   \n",
       "2                 0        0      0         0                0      0       0   \n",
       "3                 0        0      0         0                0      0       0   \n",
       "4                 0        0      0         0                0      0       0   \n",
       "\n",
       "   unknown  video  weibo  \n",
       "0        0      0      0  \n",
       "1        0      0      0  \n",
       "2        0      0      0  \n",
       "3        0      0      0  \n",
       "4        0      0      0  \n",
       "\n",
       "[5 rows x 101 columns]"
      ]
     },
     "execution_count": 14,
     "metadata": {},
     "output_type": "execute_result"
    }
   ],
   "source": [
    "# poglądowe wyświetlenie wyniku\n",
    "result.head()"
   ]
  },
  {
   "cell_type": "markdown",
   "metadata": {},
   "source": [
    "### 2) Mergowanie danych\n",
    "Mergowany jest wektor one-hot nazw kategorii, wraz z tabelą app_labels"
   ]
  },
  {
   "cell_type": "code",
   "execution_count": 15,
   "metadata": {},
   "outputs": [],
   "source": [
    "# merge tabeli app_labels + label_categories\n",
    "AppLabels_LabelCategories = pd.merge(app_labels, result, how=\"inner\")\n",
    "# usunięcie kolumny label_id - nie będzie już potrzebna w przyszłości\n",
    "AppLabels_LabelCategories = AppLabels_LabelCategories.drop('label_id', axis=1)\n",
    "# usunięcie duplikatów\n",
    "AppLabels_LabelCategories = AppLabels_LabelCategories.drop_duplicates()\n",
    "# zapisanie do pliku\n",
    "AppLabels_LabelCategories.to_csv(source + 'merge/AppLabels_LabelCategories.csv', index=False)"
   ]
  },
  {
   "cell_type": "markdown",
   "metadata": {},
   "source": [
    "Przygotowanie tabeli app_events do mergowania - usunięta zostanie kolumna is_installed, oraz wszystkie wiersze dla których is_active = 0"
   ]
  },
  {
   "cell_type": "code",
   "execution_count": 15,
   "metadata": {},
   "outputs": [
    {
     "data": {
      "text/html": [
       "<div>\n",
       "<style scoped>\n",
       "    .dataframe tbody tr th:only-of-type {\n",
       "        vertical-align: middle;\n",
       "    }\n",
       "\n",
       "    .dataframe tbody tr th {\n",
       "        vertical-align: top;\n",
       "    }\n",
       "\n",
       "    .dataframe thead th {\n",
       "        text-align: right;\n",
       "    }\n",
       "</style>\n",
       "<table border=\"1\" class=\"dataframe\">\n",
       "  <thead>\n",
       "    <tr style=\"text-align: right;\">\n",
       "      <th></th>\n",
       "      <th>event_id</th>\n",
       "      <th>app_id</th>\n",
       "      <th>is_active</th>\n",
       "    </tr>\n",
       "  </thead>\n",
       "  <tbody>\n",
       "    <tr>\n",
       "      <th>0</th>\n",
       "      <td>2</td>\n",
       "      <td>5927333115845830913</td>\n",
       "      <td>1</td>\n",
       "    </tr>\n",
       "    <tr>\n",
       "      <th>1</th>\n",
       "      <td>2</td>\n",
       "      <td>-5720078949152207372</td>\n",
       "      <td>0</td>\n",
       "    </tr>\n",
       "    <tr>\n",
       "      <th>2</th>\n",
       "      <td>2</td>\n",
       "      <td>-1633887856876571208</td>\n",
       "      <td>0</td>\n",
       "    </tr>\n",
       "    <tr>\n",
       "      <th>3</th>\n",
       "      <td>2</td>\n",
       "      <td>-653184325010919369</td>\n",
       "      <td>1</td>\n",
       "    </tr>\n",
       "    <tr>\n",
       "      <th>4</th>\n",
       "      <td>2</td>\n",
       "      <td>8693964245073640147</td>\n",
       "      <td>1</td>\n",
       "    </tr>\n",
       "  </tbody>\n",
       "</table>\n",
       "</div>"
      ],
      "text/plain": [
       "   event_id               app_id  is_active\n",
       "0         2  5927333115845830913          1\n",
       "1         2 -5720078949152207372          0\n",
       "2         2 -1633887856876571208          0\n",
       "3         2  -653184325010919369          1\n",
       "4         2  8693964245073640147          1"
      ]
     },
     "execution_count": 15,
     "metadata": {},
     "output_type": "execute_result"
    }
   ],
   "source": [
    "# wczytanie pliku\n",
    "app_events = pd.read_csv(source+'app_events.csv', sep=',')\n",
    "# usunięcie kolumny is_installed\n",
    "app_events = app_events.drop('is_installed',axis=1)\n",
    "# usunięcie wierszy dla których is_active = 0\n",
    "app_events = app_events.drop(app_events[app_events.is_active == 0].index)"
   ]
  },
  {
   "cell_type": "code",
   "execution_count": 20,
   "metadata": {},
   "outputs": [],
   "source": [
    "#zapisanie app_events do nowego pliku\n",
    "app_events.to_csv(source + 'merge/app_events_cleaned.csv', index=False)"
   ]
  },
  {
   "cell_type": "code",
   "execution_count": 22,
   "metadata": {},
   "outputs": [
    {
     "data": {
      "text/plain": [
       "event_id     int64\n",
       "app_id       int64\n",
       "is_active    int64\n",
       "dtype: object"
      ]
     },
     "execution_count": 22,
     "metadata": {},
     "output_type": "execute_result"
    }
   ],
   "source": [
    "#upewnienie się że wszystkie pola są wypełnione\n",
    "app_events.isnull().sum()\n",
    "#sprawdzenie typów\n",
    "app_events.dtypes"
   ]
  },
  {
   "cell_type": "code",
   "execution_count": 2,
   "metadata": {},
   "outputs": [],
   "source": [
    "#wczytanie pliku AppLabels_LabelCategories.csv\n",
    "AppLabels_LabelCategories = pd.read_csv(source+'merge/AppLabels_LabelCategories.csv', sep=',')\n",
    "# merge tabeli app_events + AppLabels_LabelCategories - wykorzystanie podziału na bloki ze względu na problem z pamięcią\n",
    "app_events = pd.read_csv(source+'merge/app_events_cleaned.csv', sep=',', iterator=True, chunksize=700000)\n",
    "# zastosowanie flagi jest niezbędne w celu uniknięcia przepisywania nazw kolumn przy każdym bloku\n",
    "flag = True\n",
    "for chunk in app_events:\n",
    "    #mergowanie tablic\n",
    "    chunk = pd.merge(chunk, AppLabels_LabelCategories, how=\"inner\")\n",
    "    #usunięcie kolumny is_active oraz app_id, gdyż teraz są one zbędne\n",
    "    chunk = chunk.drop(['app_id', 'is_active'], axis=1)\n",
    "    #grupowanie po event_id, reset_index() powoduje zapisywanie event_id (normalnie było ono ignorowane i niezapisywane)\n",
    "    chunk = chunk.groupby(\"event_id\").sum().reset_index()\n",
    "    #zapisanie do pliku\n",
    "    chunk.to_csv(source + 'merge/AppEvents_AppLabels_LabelCategories.csv', index=False, mode='a', header=flag)\n",
    "    flag= False"
   ]
  },
  {
   "cell_type": "code",
   "execution_count": 14,
   "metadata": {},
   "outputs": [
    {
     "data": {
      "text/plain": [
       "(1471839, 101)"
      ]
     },
     "execution_count": 14,
     "metadata": {},
     "output_type": "execute_result"
    }
   ],
   "source": [
    "#Upewnienie się, czy liczba event_id jest taka sama jak w oryginalnym pliku\n",
    "AppEvents_AppLabels_LabelCategories = pd.read_csv(source+'merge/AppEvents_AppLabels_LabelCategories.csv', sep=',')\n",
    "AppEvents_AppLabels_LabelCategories.shape"
   ]
  },
  {
   "cell_type": "code",
   "execution_count": 15,
   "metadata": {},
   "outputs": [
    {
     "data": {
      "text/plain": [
       "(1477059, 1)"
      ]
     },
     "execution_count": 15,
     "metadata": {},
     "output_type": "execute_result"
    }
   ],
   "source": [
    "#W oryginalnym pliku jest ~6tyś więcej unikatowych event_id, co jest niewielkim odchyleniem \n",
    "app_events_cleaned = pd.read_csv(source+'merge/app_events_cleaned.csv', sep=',')\n",
    "app_events_cleaned = app_events_cleaned.drop(['app_id','is_active'], axis=1)\n",
    "app_events_cleaned = app_events_cleaned.drop_duplicates()\n",
    "app_events_cleaned.shape"
   ]
  },
  {
   "cell_type": "markdown",
   "metadata": {},
   "source": [
    "Ze względu na fakt, że podczas merge'a i grupowania plik był dzielony na bloki, mogło dojść do sytuacji w której blok który się kończył, posiadał ten sam event_id co nowo rozpoczęty blok. Aby usunąć ryzyko takiego pominięcia, raz jeszcze pogrupuję plik - tym razem bez podziału na bloki, gdyż jest on dużo mniejszy."
   ]
  },
  {
   "cell_type": "code",
   "execution_count": 17,
   "metadata": {},
   "outputs": [],
   "source": [
    "#wczytanie ostatnio zmergowanego pliku\n",
    "grupowane = pd.read_csv(source+'merge/AppEvents_AppLabels_LabelCategories.csv', sep=',')\n",
    "#grupowanie po event_id, reset_index() powoduje zapisywanie event_id (normalnie było ono ignorowane i niezapisywane)\n",
    "grupowane = grupowane.groupby(\"event_id\").sum().reset_index()\n",
    "#zapisanie do pliku\n",
    "grupowane.to_csv(source + 'merge/AppEvents_AppLabels_LabelCategories_cleaned.csv', index=False)"
   ]
  },
  {
   "cell_type": "code",
   "execution_count": 22,
   "metadata": {},
   "outputs": [
    {
     "data": {
      "text/plain": [
       "(1471824, 101)"
      ]
     },
     "execution_count": 22,
     "metadata": {},
     "output_type": "execute_result"
    }
   ],
   "source": [
    "#ponowne porównanie liczby eventów - Okazuje się, że 15 event_id zostało pominiętych\n",
    "grupowane.shape"
   ]
  },
  {
   "cell_type": "markdown",
   "metadata": {},
   "source": [
    "### 3) Przygotowywanie zbioru treningowego:"
   ]
  },
  {
   "cell_type": "markdown",
   "metadata": {},
   "source": [
    "Wczesniej przygotowany został plik Phone_Train_Events_Medians.csv, zawierający zmergowane następujące tabele:"
   ]
  },
  {
   "cell_type": "markdown",
   "metadata": {},
   "source": [
    "phone_brands - zmienione zostały nazwy modeli i marek na int'y, \n",
    "gender_age_train - postać oryginalna,\n",
    "events - powtarzające się wartości dla device_id zostały zastąpione medianą, dzięki czemu uzyskano postać bez powtórzeń"
   ]
  },
  {
   "cell_type": "code",
   "execution_count": 13,
   "metadata": {},
   "outputs": [],
   "source": [
    "Phone_Train_Events_Medians = pd.read_csv(source+'merge/Phone_Train_Events_Medians.csv', sep=',')\n",
    "AppEvents_AppLabels_LabelCategories_cleaned = pd.read_csv(source+'merge/AppEvents_AppLabels_LabelCategories_cleaned.csv', sep=',')\n",
    "\n",
    "#Aby mieć pełen plik, należy zmergować plik AppEvents_AppLabels_LabelCategories_cleaned.csv z Phone_Train_Events_Medians.csv\n",
    "Train = pd.merge(Phone_Train_Events_Medians, AppEvents_AppLabels_LabelCategories_cleaned, how=\"left\")\n",
    "#Należy usunąć kolumne event_id\n",
    "Train = Train.drop('event_id',axis=1)\n",
    "#Problemem jest fakt, że po zapisaniu w takiej postaci, istnieje wiele powtórzeń device_id które wynikają z event_id. \n",
    "#Finalnie chcemy uzyskać postać w której każde device_id będzie istnieć tylko raz.\n",
    "#Najpierw puste pola wypełnione zostaną zerami\n",
    "Train = Train.fillna(0)\n",
    "Train.to_csv(source + 'merge/Train.csv', index=False)"
   ]
  },
  {
   "cell_type": "code",
   "execution_count": 2,
   "metadata": {},
   "outputs": [
    {
     "data": {
      "text/html": [
       "<div>\n",
       "<style scoped>\n",
       "    .dataframe tbody tr th:only-of-type {\n",
       "        vertical-align: middle;\n",
       "    }\n",
       "\n",
       "    .dataframe tbody tr th {\n",
       "        vertical-align: top;\n",
       "    }\n",
       "\n",
       "    .dataframe thead th {\n",
       "        text-align: right;\n",
       "    }\n",
       "</style>\n",
       "<table border=\"1\" class=\"dataframe\">\n",
       "  <thead>\n",
       "    <tr style=\"text-align: right;\">\n",
       "      <th></th>\n",
       "      <th>device_id</th>\n",
       "      <th>group</th>\n",
       "      <th>phone_brand</th>\n",
       "      <th>device_model</th>\n",
       "      <th>longitude</th>\n",
       "      <th>latitude</th>\n",
       "      <th>hour</th>\n",
       "      <th>1 free</th>\n",
       "      <th>1 reputation</th>\n",
       "      <th>A shares</th>\n",
       "      <th>...</th>\n",
       "      <th>reading platform</th>\n",
       "      <th>service</th>\n",
       "      <th>stock</th>\n",
       "      <th>the film</th>\n",
       "      <th>tourism product</th>\n",
       "      <th>train</th>\n",
       "      <th>travel</th>\n",
       "      <th>unknown</th>\n",
       "      <th>video</th>\n",
       "      <th>weibo</th>\n",
       "    </tr>\n",
       "  </thead>\n",
       "  <tbody>\n",
       "    <tr>\n",
       "      <th>0</th>\n",
       "      <td>9032155484127182494</td>\n",
       "      <td>M29-31</td>\n",
       "      <td>4</td>\n",
       "      <td>284</td>\n",
       "      <td>0</td>\n",
       "      <td>0</td>\n",
       "      <td>0</td>\n",
       "      <td>0</td>\n",
       "      <td>0</td>\n",
       "      <td>0</td>\n",
       "      <td>...</td>\n",
       "      <td>0</td>\n",
       "      <td>0</td>\n",
       "      <td>0</td>\n",
       "      <td>0</td>\n",
       "      <td>0</td>\n",
       "      <td>0</td>\n",
       "      <td>0</td>\n",
       "      <td>0</td>\n",
       "      <td>0</td>\n",
       "      <td>0</td>\n",
       "    </tr>\n",
       "    <tr>\n",
       "      <th>1</th>\n",
       "      <td>8026504930081700361</td>\n",
       "      <td>M23-26</td>\n",
       "      <td>1</td>\n",
       "      <td>263</td>\n",
       "      <td>0</td>\n",
       "      <td>0</td>\n",
       "      <td>0</td>\n",
       "      <td>0</td>\n",
       "      <td>0</td>\n",
       "      <td>0</td>\n",
       "      <td>...</td>\n",
       "      <td>0</td>\n",
       "      <td>0</td>\n",
       "      <td>0</td>\n",
       "      <td>0</td>\n",
       "      <td>0</td>\n",
       "      <td>0</td>\n",
       "      <td>0</td>\n",
       "      <td>1</td>\n",
       "      <td>0</td>\n",
       "      <td>0</td>\n",
       "    </tr>\n",
       "    <tr>\n",
       "      <th>2</th>\n",
       "      <td>8026504930081700361</td>\n",
       "      <td>M23-26</td>\n",
       "      <td>1</td>\n",
       "      <td>263</td>\n",
       "      <td>0</td>\n",
       "      <td>0</td>\n",
       "      <td>0</td>\n",
       "      <td>0</td>\n",
       "      <td>0</td>\n",
       "      <td>0</td>\n",
       "      <td>...</td>\n",
       "      <td>0</td>\n",
       "      <td>0</td>\n",
       "      <td>0</td>\n",
       "      <td>0</td>\n",
       "      <td>0</td>\n",
       "      <td>0</td>\n",
       "      <td>0</td>\n",
       "      <td>1</td>\n",
       "      <td>0</td>\n",
       "      <td>0</td>\n",
       "    </tr>\n",
       "    <tr>\n",
       "      <th>3</th>\n",
       "      <td>8026504930081700361</td>\n",
       "      <td>M23-26</td>\n",
       "      <td>1</td>\n",
       "      <td>263</td>\n",
       "      <td>0</td>\n",
       "      <td>0</td>\n",
       "      <td>0</td>\n",
       "      <td>0</td>\n",
       "      <td>0</td>\n",
       "      <td>0</td>\n",
       "      <td>...</td>\n",
       "      <td>0</td>\n",
       "      <td>0</td>\n",
       "      <td>0</td>\n",
       "      <td>0</td>\n",
       "      <td>0</td>\n",
       "      <td>0</td>\n",
       "      <td>0</td>\n",
       "      <td>1</td>\n",
       "      <td>0</td>\n",
       "      <td>0</td>\n",
       "    </tr>\n",
       "    <tr>\n",
       "      <th>4</th>\n",
       "      <td>2313145512701915151</td>\n",
       "      <td>M32-38</td>\n",
       "      <td>2</td>\n",
       "      <td>5</td>\n",
       "      <td>0</td>\n",
       "      <td>0</td>\n",
       "      <td>0</td>\n",
       "      <td>0</td>\n",
       "      <td>0</td>\n",
       "      <td>0</td>\n",
       "      <td>...</td>\n",
       "      <td>0</td>\n",
       "      <td>0</td>\n",
       "      <td>0</td>\n",
       "      <td>0</td>\n",
       "      <td>0</td>\n",
       "      <td>0</td>\n",
       "      <td>0</td>\n",
       "      <td>0</td>\n",
       "      <td>0</td>\n",
       "      <td>0</td>\n",
       "    </tr>\n",
       "  </tbody>\n",
       "</table>\n",
       "<p>5 rows × 107 columns</p>\n",
       "</div>"
      ],
      "text/plain": [
       "             device_id   group  phone_brand  device_model  longitude  \\\n",
       "0  9032155484127182494  M29-31            4           284          0   \n",
       "1  8026504930081700361  M23-26            1           263          0   \n",
       "2  8026504930081700361  M23-26            1           263          0   \n",
       "3  8026504930081700361  M23-26            1           263          0   \n",
       "4  2313145512701915151  M32-38            2             5          0   \n",
       "\n",
       "   latitude  hour  1 free  1 reputation  A shares  ...    reading platform  \\\n",
       "0         0     0       0             0         0  ...                   0   \n",
       "1         0     0       0             0         0  ...                   0   \n",
       "2         0     0       0             0         0  ...                   0   \n",
       "3         0     0       0             0         0  ...                   0   \n",
       "4         0     0       0             0         0  ...                   0   \n",
       "\n",
       "   service  stock  the film  tourism product  train  travel  unknown  video  \\\n",
       "0        0      0         0                0      0       0        0      0   \n",
       "1        0      0         0                0      0       0        1      0   \n",
       "2        0      0         0                0      0       0        1      0   \n",
       "3        0      0         0                0      0       0        1      0   \n",
       "4        0      0         0                0      0       0        0      0   \n",
       "\n",
       "   weibo  \n",
       "0      0  \n",
       "1      0  \n",
       "2      0  \n",
       "3      0  \n",
       "4      0  \n",
       "\n",
       "[5 rows x 107 columns]"
      ]
     },
     "execution_count": 2,
     "metadata": {},
     "output_type": "execute_result"
    }
   ],
   "source": [
    "#Uzyskany plik\n",
    "Train = pd.read_csv(source+'merge/Train.csv', sep=',')\n",
    "Train.head()"
   ]
  },
  {
   "cell_type": "markdown",
   "metadata": {},
   "source": [
    "Aby każde device wystąpiło tylko raz, usunięte zostaną wszystkie kolumny od 'group' aż do 'hour',\n",
    "następnie plik zostanie pogrupowany według device_id i zapisany.\n",
    "Zapisany plik zmerguje ponownie z Phone_Train_Events_Medians.csv"
   ]
  },
  {
   "cell_type": "code",
   "execution_count": 3,
   "metadata": {},
   "outputs": [],
   "source": [
    "#Wczytanie pliku\n",
    "Train = pd.read_csv(source+'merge/Train.csv', sep=',')\n",
    "#Usunięcie kolumn które uniemożliwiają zsumowanie\n",
    "Train = Train.drop(['group','phone_brand','device_model','longitude','latitude','hour'],axis=1)\n",
    "#Grupowanie po device_id\n",
    "Train = Train.groupby(\"device_id\").sum().reset_index()\n",
    "Train.to_csv(source + 'merge/Train_cleaned.csv', index=False)"
   ]
  },
  {
   "cell_type": "code",
   "execution_count": 4,
   "metadata": {},
   "outputs": [
    {
     "data": {
      "text/plain": [
       "(74645, 101)"
      ]
     },
     "execution_count": 4,
     "metadata": {},
     "output_type": "execute_result"
    }
   ],
   "source": [
    "Train.shape"
   ]
  },
  {
   "cell_type": "code",
   "execution_count": 8,
   "metadata": {},
   "outputs": [
    {
     "data": {
      "text/plain": [
       "(74645, 4)"
      ]
     },
     "execution_count": 8,
     "metadata": {},
     "output_type": "execute_result"
    }
   ],
   "source": [
    "#Porównanie liczby device_id pliku train_cleaned.csv z liczbą device_id pliku gender_age_train.csv\n",
    "gender_age_train = pd.read_csv(source+'gender_age_train.csv', sep=',')\n",
    "gender_age_train.drop(['group','gender','age'], axis=1)\n",
    "gender_age_train.drop_duplicates()\n",
    "gender_age_train.shape"
   ]
  },
  {
   "cell_type": "code",
   "execution_count": 7,
   "metadata": {},
   "outputs": [],
   "source": [
    "#Wczytanie plików które chcemy ostatecznie zmergować\n",
    "Phone_Train_Events_Medians = pd.read_csv(source+'merge/Phone_Train_Events_Medians.csv', sep=',')\n",
    "Phone_Train_Events_Medians = Phone_Train_Events_Medians.drop('event_id', axis=1)\n",
    "Train_cleaned = pd.read_csv(source+'merge/Train_cleaned.csv', sep=',')\n",
    "\n",
    "#Mergowanie\n",
    "Train_Set = pd.merge(Phone_Train_Events_Medians, Train_cleaned, how=\"left\")\n",
    "#Zapisanie do pliku\n",
    "Train_Set.to_csv(source + 'merge/Train_Set.csv', index=False)"
   ]
  },
  {
   "cell_type": "code",
   "execution_count": 9,
   "metadata": {},
   "outputs": [],
   "source": [
    "#Train_Set jest już prawie gotowy, potrzeba jeszcze usunąć duplikaty które pozostały po poprzednim mergu\n",
    "Train_Set = Train_Set.drop_duplicates()\n",
    "Train_Set.to_csv(source + 'merge/Train_Set_cleaned.csv', index=False)"
   ]
  },
  {
   "cell_type": "code",
   "execution_count": 10,
   "metadata": {},
   "outputs": [
    {
     "data": {
      "text/plain": [
       "(74646, 107)"
      ]
     },
     "execution_count": 10,
     "metadata": {},
     "output_type": "execute_result"
    }
   ],
   "source": [
    "#Jak widać liczba device_id jest o 1 większa niż w gender_age_train.csv, najprawdopodobniej istnieje device_id które zostało pominięte\n",
    "Train_Set.shape"
   ]
  },
  {
   "cell_type": "code",
   "execution_count": 11,
   "metadata": {},
   "outputs": [
    {
     "data": {
      "text/html": [
       "<div>\n",
       "<style scoped>\n",
       "    .dataframe tbody tr th:only-of-type {\n",
       "        vertical-align: middle;\n",
       "    }\n",
       "\n",
       "    .dataframe tbody tr th {\n",
       "        vertical-align: top;\n",
       "    }\n",
       "\n",
       "    .dataframe thead th {\n",
       "        text-align: right;\n",
       "    }\n",
       "</style>\n",
       "<table border=\"1\" class=\"dataframe\">\n",
       "  <thead>\n",
       "    <tr style=\"text-align: right;\">\n",
       "      <th></th>\n",
       "      <th>device_id</th>\n",
       "      <th>group</th>\n",
       "      <th>phone_brand</th>\n",
       "      <th>device_model</th>\n",
       "      <th>longitude</th>\n",
       "      <th>latitude</th>\n",
       "      <th>hour</th>\n",
       "      <th>1 free</th>\n",
       "      <th>1 reputation</th>\n",
       "      <th>A shares</th>\n",
       "      <th>...</th>\n",
       "      <th>reading platform</th>\n",
       "      <th>service</th>\n",
       "      <th>stock</th>\n",
       "      <th>the film</th>\n",
       "      <th>tourism product</th>\n",
       "      <th>train</th>\n",
       "      <th>travel</th>\n",
       "      <th>unknown</th>\n",
       "      <th>video</th>\n",
       "      <th>weibo</th>\n",
       "    </tr>\n",
       "  </thead>\n",
       "  <tbody>\n",
       "    <tr>\n",
       "      <th>0</th>\n",
       "      <td>9032155484127182494</td>\n",
       "      <td>M29-31</td>\n",
       "      <td>4</td>\n",
       "      <td>284</td>\n",
       "      <td>0</td>\n",
       "      <td>0</td>\n",
       "      <td>0</td>\n",
       "      <td>0</td>\n",
       "      <td>0</td>\n",
       "      <td>0</td>\n",
       "      <td>...</td>\n",
       "      <td>0</td>\n",
       "      <td>0</td>\n",
       "      <td>0</td>\n",
       "      <td>0</td>\n",
       "      <td>0</td>\n",
       "      <td>0</td>\n",
       "      <td>0</td>\n",
       "      <td>0</td>\n",
       "      <td>0</td>\n",
       "      <td>0</td>\n",
       "    </tr>\n",
       "    <tr>\n",
       "      <th>1</th>\n",
       "      <td>8026504930081700361</td>\n",
       "      <td>M23-26</td>\n",
       "      <td>1</td>\n",
       "      <td>263</td>\n",
       "      <td>0</td>\n",
       "      <td>0</td>\n",
       "      <td>0</td>\n",
       "      <td>0</td>\n",
       "      <td>0</td>\n",
       "      <td>0</td>\n",
       "      <td>...</td>\n",
       "      <td>0</td>\n",
       "      <td>0</td>\n",
       "      <td>0</td>\n",
       "      <td>0</td>\n",
       "      <td>0</td>\n",
       "      <td>0</td>\n",
       "      <td>0</td>\n",
       "      <td>3</td>\n",
       "      <td>0</td>\n",
       "      <td>0</td>\n",
       "    </tr>\n",
       "    <tr>\n",
       "      <th>4</th>\n",
       "      <td>2313145512701915151</td>\n",
       "      <td>M32-38</td>\n",
       "      <td>2</td>\n",
       "      <td>5</td>\n",
       "      <td>0</td>\n",
       "      <td>0</td>\n",
       "      <td>0</td>\n",
       "      <td>0</td>\n",
       "      <td>0</td>\n",
       "      <td>0</td>\n",
       "      <td>...</td>\n",
       "      <td>0</td>\n",
       "      <td>0</td>\n",
       "      <td>0</td>\n",
       "      <td>0</td>\n",
       "      <td>0</td>\n",
       "      <td>0</td>\n",
       "      <td>0</td>\n",
       "      <td>0</td>\n",
       "      <td>0</td>\n",
       "      <td>0</td>\n",
       "    </tr>\n",
       "    <tr>\n",
       "      <th>5</th>\n",
       "      <td>-7303294878482532208</td>\n",
       "      <td>M32-38</td>\n",
       "      <td>4</td>\n",
       "      <td>174</td>\n",
       "      <td>0</td>\n",
       "      <td>0</td>\n",
       "      <td>0</td>\n",
       "      <td>0</td>\n",
       "      <td>0</td>\n",
       "      <td>0</td>\n",
       "      <td>...</td>\n",
       "      <td>0</td>\n",
       "      <td>0</td>\n",
       "      <td>0</td>\n",
       "      <td>0</td>\n",
       "      <td>0</td>\n",
       "      <td>0</td>\n",
       "      <td>0</td>\n",
       "      <td>0</td>\n",
       "      <td>0</td>\n",
       "      <td>0</td>\n",
       "    </tr>\n",
       "    <tr>\n",
       "      <th>6</th>\n",
       "      <td>3014072209520807550</td>\n",
       "      <td>M27-28</td>\n",
       "      <td>6</td>\n",
       "      <td>269</td>\n",
       "      <td>0</td>\n",
       "      <td>0</td>\n",
       "      <td>0</td>\n",
       "      <td>0</td>\n",
       "      <td>0</td>\n",
       "      <td>0</td>\n",
       "      <td>...</td>\n",
       "      <td>0</td>\n",
       "      <td>0</td>\n",
       "      <td>0</td>\n",
       "      <td>0</td>\n",
       "      <td>0</td>\n",
       "      <td>0</td>\n",
       "      <td>0</td>\n",
       "      <td>0</td>\n",
       "      <td>0</td>\n",
       "      <td>0</td>\n",
       "    </tr>\n",
       "  </tbody>\n",
       "</table>\n",
       "<p>5 rows × 107 columns</p>\n",
       "</div>"
      ],
      "text/plain": [
       "             device_id   group  phone_brand  device_model  longitude  \\\n",
       "0  9032155484127182494  M29-31            4           284          0   \n",
       "1  8026504930081700361  M23-26            1           263          0   \n",
       "4  2313145512701915151  M32-38            2             5          0   \n",
       "5 -7303294878482532208  M32-38            4           174          0   \n",
       "6  3014072209520807550  M27-28            6           269          0   \n",
       "\n",
       "   latitude  hour  1 free  1 reputation  A shares  ...    reading platform  \\\n",
       "0         0     0       0             0         0  ...                   0   \n",
       "1         0     0       0             0         0  ...                   0   \n",
       "4         0     0       0             0         0  ...                   0   \n",
       "5         0     0       0             0         0  ...                   0   \n",
       "6         0     0       0             0         0  ...                   0   \n",
       "\n",
       "   service  stock  the film  tourism product  train  travel  unknown  video  \\\n",
       "0        0      0         0                0      0       0        0      0   \n",
       "1        0      0         0                0      0       0        3      0   \n",
       "4        0      0         0                0      0       0        0      0   \n",
       "5        0      0         0                0      0       0        0      0   \n",
       "6        0      0         0                0      0       0        0      0   \n",
       "\n",
       "   weibo  \n",
       "0      0  \n",
       "1      0  \n",
       "4      0  \n",
       "5      0  \n",
       "6      0  \n",
       "\n",
       "[5 rows x 107 columns]"
      ]
     },
     "execution_count": 11,
     "metadata": {},
     "output_type": "execute_result"
    }
   ],
   "source": [
    "#Podgląd tabeli\n",
    "Train_Set.head()"
   ]
  },
  {
   "cell_type": "markdown",
   "metadata": {},
   "source": [
    "Udało się uzyskać zbiór treningowy, teraz należy w podobny sposób przygotować zbiór testowy"
   ]
  },
  {
   "cell_type": "markdown",
   "metadata": {},
   "source": [
    "### 4) Przygotowywanie zbioru testowego:"
   ]
  },
  {
   "cell_type": "code",
   "execution_count": 13,
   "metadata": {},
   "outputs": [],
   "source": [
    "Phone_Test_Events_Medians = pd.read_csv(source+'merge/Phone_Test_Events_Medians.csv', sep=',')\n",
    "AppEvents_AppLabels_LabelCategories_cleaned = pd.read_csv(source+'merge/AppEvents_AppLabels_LabelCategories_cleaned.csv', sep=',')\n",
    "\n",
    "#Aby mieć pełen plik, należy zmergować plik AppEvents_AppLabels_LabelCategories_cleaned.csv z Phone_Train_Events_Medians.csv\n",
    "Test = pd.merge(Phone_Test_Events_Medians, AppEvents_AppLabels_LabelCategories_cleaned, how=\"left\")\n",
    "#Należy usunąć kolumne event_id\n",
    "Test = Test.drop('event_id',axis=1)\n",
    "#Problemem jest fakt, że po zapisaniu w takiej postaci, istnieje wiele powtórzeń device_id które wynikają z event_id. \n",
    "#Finalnie chcemy uzyskać postać w której każde device_id będzie istnieć tylko raz.\n",
    "#Najpierw puste pola wypełnione zostaną zerami\n",
    "Test = Test.fillna(0)\n",
    "Test.to_csv(source + 'merge/Test.csv', index=False)"
   ]
  },
  {
   "cell_type": "code",
   "execution_count": 3,
   "metadata": {},
   "outputs": [
    {
     "data": {
      "text/html": [
       "<div>\n",
       "<style scoped>\n",
       "    .dataframe tbody tr th:only-of-type {\n",
       "        vertical-align: middle;\n",
       "    }\n",
       "\n",
       "    .dataframe tbody tr th {\n",
       "        vertical-align: top;\n",
       "    }\n",
       "\n",
       "    .dataframe thead th {\n",
       "        text-align: right;\n",
       "    }\n",
       "</style>\n",
       "<table border=\"1\" class=\"dataframe\">\n",
       "  <thead>\n",
       "    <tr style=\"text-align: right;\">\n",
       "      <th></th>\n",
       "      <th>device_id</th>\n",
       "      <th>phone_brand</th>\n",
       "      <th>device_model</th>\n",
       "      <th>longitude</th>\n",
       "      <th>latitude</th>\n",
       "      <th>hour</th>\n",
       "      <th>1 free</th>\n",
       "      <th>1 reputation</th>\n",
       "      <th>A shares</th>\n",
       "      <th>Accounting</th>\n",
       "      <th>...</th>\n",
       "      <th>reading platform</th>\n",
       "      <th>service</th>\n",
       "      <th>stock</th>\n",
       "      <th>the film</th>\n",
       "      <th>tourism product</th>\n",
       "      <th>train</th>\n",
       "      <th>travel</th>\n",
       "      <th>unknown</th>\n",
       "      <th>video</th>\n",
       "      <th>weibo</th>\n",
       "    </tr>\n",
       "  </thead>\n",
       "  <tbody>\n",
       "    <tr>\n",
       "      <th>0</th>\n",
       "      <td>-6220210354783429585</td>\n",
       "      <td>4</td>\n",
       "      <td>74</td>\n",
       "      <td>0</td>\n",
       "      <td>0</td>\n",
       "      <td>7</td>\n",
       "      <td>2</td>\n",
       "      <td>0</td>\n",
       "      <td>1</td>\n",
       "      <td>0</td>\n",
       "      <td>...</td>\n",
       "      <td>1</td>\n",
       "      <td>0</td>\n",
       "      <td>1</td>\n",
       "      <td>0</td>\n",
       "      <td>0</td>\n",
       "      <td>0</td>\n",
       "      <td>0</td>\n",
       "      <td>2</td>\n",
       "      <td>3</td>\n",
       "      <td>0</td>\n",
       "    </tr>\n",
       "    <tr>\n",
       "      <th>1</th>\n",
       "      <td>-6220210354783429585</td>\n",
       "      <td>4</td>\n",
       "      <td>74</td>\n",
       "      <td>0</td>\n",
       "      <td>0</td>\n",
       "      <td>7</td>\n",
       "      <td>1</td>\n",
       "      <td>0</td>\n",
       "      <td>1</td>\n",
       "      <td>0</td>\n",
       "      <td>...</td>\n",
       "      <td>1</td>\n",
       "      <td>0</td>\n",
       "      <td>1</td>\n",
       "      <td>0</td>\n",
       "      <td>0</td>\n",
       "      <td>0</td>\n",
       "      <td>0</td>\n",
       "      <td>2</td>\n",
       "      <td>2</td>\n",
       "      <td>0</td>\n",
       "    </tr>\n",
       "    <tr>\n",
       "      <th>2</th>\n",
       "      <td>-6220210354783429585</td>\n",
       "      <td>4</td>\n",
       "      <td>74</td>\n",
       "      <td>0</td>\n",
       "      <td>0</td>\n",
       "      <td>7</td>\n",
       "      <td>1</td>\n",
       "      <td>0</td>\n",
       "      <td>2</td>\n",
       "      <td>0</td>\n",
       "      <td>...</td>\n",
       "      <td>0</td>\n",
       "      <td>0</td>\n",
       "      <td>2</td>\n",
       "      <td>0</td>\n",
       "      <td>0</td>\n",
       "      <td>0</td>\n",
       "      <td>0</td>\n",
       "      <td>3</td>\n",
       "      <td>2</td>\n",
       "      <td>0</td>\n",
       "    </tr>\n",
       "    <tr>\n",
       "      <th>3</th>\n",
       "      <td>-6220210354783429585</td>\n",
       "      <td>4</td>\n",
       "      <td>74</td>\n",
       "      <td>0</td>\n",
       "      <td>0</td>\n",
       "      <td>7</td>\n",
       "      <td>2</td>\n",
       "      <td>0</td>\n",
       "      <td>1</td>\n",
       "      <td>0</td>\n",
       "      <td>...</td>\n",
       "      <td>2</td>\n",
       "      <td>0</td>\n",
       "      <td>1</td>\n",
       "      <td>0</td>\n",
       "      <td>0</td>\n",
       "      <td>0</td>\n",
       "      <td>0</td>\n",
       "      <td>2</td>\n",
       "      <td>3</td>\n",
       "      <td>0</td>\n",
       "    </tr>\n",
       "    <tr>\n",
       "      <th>4</th>\n",
       "      <td>-6220210354783429585</td>\n",
       "      <td>4</td>\n",
       "      <td>74</td>\n",
       "      <td>0</td>\n",
       "      <td>0</td>\n",
       "      <td>7</td>\n",
       "      <td>1</td>\n",
       "      <td>0</td>\n",
       "      <td>1</td>\n",
       "      <td>0</td>\n",
       "      <td>...</td>\n",
       "      <td>2</td>\n",
       "      <td>0</td>\n",
       "      <td>1</td>\n",
       "      <td>0</td>\n",
       "      <td>0</td>\n",
       "      <td>0</td>\n",
       "      <td>0</td>\n",
       "      <td>2</td>\n",
       "      <td>2</td>\n",
       "      <td>0</td>\n",
       "    </tr>\n",
       "  </tbody>\n",
       "</table>\n",
       "<p>5 rows × 106 columns</p>\n",
       "</div>"
      ],
      "text/plain": [
       "             device_id  phone_brand  device_model  longitude  latitude  hour  \\\n",
       "0 -6220210354783429585            4            74          0         0     7   \n",
       "1 -6220210354783429585            4            74          0         0     7   \n",
       "2 -6220210354783429585            4            74          0         0     7   \n",
       "3 -6220210354783429585            4            74          0         0     7   \n",
       "4 -6220210354783429585            4            74          0         0     7   \n",
       "\n",
       "   1 free  1 reputation  A shares  Accounting  ...    reading platform  \\\n",
       "0       2             0         1           0  ...                   1   \n",
       "1       1             0         1           0  ...                   1   \n",
       "2       1             0         2           0  ...                   0   \n",
       "3       2             0         1           0  ...                   2   \n",
       "4       1             0         1           0  ...                   2   \n",
       "\n",
       "   service  stock  the film  tourism product  train  travel  unknown  video  \\\n",
       "0        0      1         0                0      0       0        2      3   \n",
       "1        0      1         0                0      0       0        2      2   \n",
       "2        0      2         0                0      0       0        3      2   \n",
       "3        0      1         0                0      0       0        2      3   \n",
       "4        0      1         0                0      0       0        2      2   \n",
       "\n",
       "   weibo  \n",
       "0      0  \n",
       "1      0  \n",
       "2      0  \n",
       "3      0  \n",
       "4      0  \n",
       "\n",
       "[5 rows x 106 columns]"
      ]
     },
     "execution_count": 3,
     "metadata": {},
     "output_type": "execute_result"
    }
   ],
   "source": [
    "#Uzyskany plik\n",
    "Test = pd.read_csv(source+'merge/Test.csv', sep=',')\n",
    "Test.head()"
   ]
  },
  {
   "cell_type": "code",
   "execution_count": 4,
   "metadata": {},
   "outputs": [],
   "source": [
    "#Usunięcie kolumn które uniemożliwiają zsumowanie\n",
    "Test = Test.drop(['phone_brand','device_model','longitude','latitude','hour'],axis=1)\n",
    "#Grupowanie po device_id\n",
    "Test = Test.groupby(\"device_id\").sum().reset_index()\n",
    "#Zapisanie wyniku do pliku\n",
    "Test.to_csv(source + 'merge/Test_cleaned.csv', index=False)"
   ]
  },
  {
   "cell_type": "code",
   "execution_count": 5,
   "metadata": {},
   "outputs": [
    {
     "data": {
      "text/plain": [
       "(112071, 101)"
      ]
     },
     "execution_count": 5,
     "metadata": {},
     "output_type": "execute_result"
    }
   ],
   "source": [
    "Test.shape"
   ]
  },
  {
   "cell_type": "code",
   "execution_count": 16,
   "metadata": {},
   "outputs": [
    {
     "data": {
      "text/plain": [
       "(112071, 1)"
      ]
     },
     "execution_count": 16,
     "metadata": {},
     "output_type": "execute_result"
    }
   ],
   "source": [
    "#Porównanie liczby device_id pliku test_cleaned.csv z liczbą device_id pliku gender_age_test.csv\n",
    "gender_age_test = pd.read_csv(source+'gender_age_test.csv', sep=',')\n",
    "gender_age_test.shape"
   ]
  },
  {
   "cell_type": "code",
   "execution_count": 9,
   "metadata": {},
   "outputs": [],
   "source": [
    "#Wczytanie plików które chcemy ostatecznie zmergować\n",
    "Phone_Test_Events_Medians = pd.read_csv(source+'merge/Phone_Test_Events_Medians.csv', sep=',')\n",
    "Phone_Test_Events_Medians = Phone_Test_Events_Medians.drop('event_id', axis=1)\n",
    "Test_cleaned = pd.read_csv(source+'merge/Test_cleaned.csv', sep=',')\n",
    "\n",
    "#Mergowanie\n",
    "Test_Set = pd.merge(Phone_Test_Events_Medians, Test_cleaned, how=\"left\")\n",
    "#Zapisanie do pliku\n",
    "Test_Set.to_csv(source + 'merge/Test_Set.csv', index=False)"
   ]
  },
  {
   "cell_type": "code",
   "execution_count": 10,
   "metadata": {},
   "outputs": [],
   "source": [
    "#Test_Set jest już prawie gotowy, potrzeba jeszcze usunąć duplikaty które pozostały po poprzednim mergu\n",
    "Test_Set = Test_Set.drop_duplicates()\n",
    "Test_Set.to_csv(source + 'merge/Test_Set_cleaned.csv', index=False)"
   ]
  },
  {
   "cell_type": "code",
   "execution_count": 11,
   "metadata": {},
   "outputs": [
    {
     "data": {
      "text/plain": [
       "(112076, 106)"
      ]
     },
     "execution_count": 11,
     "metadata": {},
     "output_type": "execute_result"
    }
   ],
   "source": [
    "#Jak widać liczba device_id jest o 5 większa niż w gender_age_test.csv, najprawdopodobniej istnieje device_id które zostało pominięte\n",
    "Test_Set.shape"
   ]
  },
  {
   "cell_type": "code",
   "execution_count": 27,
   "metadata": {},
   "outputs": [
    {
     "data": {
      "text/plain": [
       "-7297178577997113203    2\n",
       "-5269721363279128080    2\n",
       "-7059081542575379359    2\n",
       "-6590454305031525112    2\n",
       "-3004353610608679970    2\n",
       " 3455183851679931327    1\n",
       "Name: device_id, dtype: int64"
      ]
     },
     "execution_count": 27,
     "metadata": {},
     "output_type": "execute_result"
    }
   ],
   "source": [
    "#W celu wyrównania liczby device_id, sprawdziłem id które się powtarzają i usunąłem je ręcznie w notepadzie\n",
    "Test['device_id'].value_counts().sort_values(ascending=False).head(6)"
   ]
  },
  {
   "cell_type": "code",
   "execution_count": 28,
   "metadata": {},
   "outputs": [
    {
     "data": {
      "text/plain": [
       " 5245428108336915020    2\n",
       "-2148167032341924228    1\n",
       "-3435121045444177990    1\n",
       "Name: device_id, dtype: int64"
      ]
     },
     "execution_count": 28,
     "metadata": {},
     "output_type": "execute_result"
    }
   ],
   "source": [
    "Train['device_id'].value_counts().sort_values(ascending=False).head(3)"
   ]
  },
  {
   "cell_type": "code",
   "execution_count": 12,
   "metadata": {},
   "outputs": [
    {
     "data": {
      "text/html": [
       "<div>\n",
       "<style scoped>\n",
       "    .dataframe tbody tr th:only-of-type {\n",
       "        vertical-align: middle;\n",
       "    }\n",
       "\n",
       "    .dataframe tbody tr th {\n",
       "        vertical-align: top;\n",
       "    }\n",
       "\n",
       "    .dataframe thead th {\n",
       "        text-align: right;\n",
       "    }\n",
       "</style>\n",
       "<table border=\"1\" class=\"dataframe\">\n",
       "  <thead>\n",
       "    <tr style=\"text-align: right;\">\n",
       "      <th></th>\n",
       "      <th>device_id</th>\n",
       "      <th>phone_brand</th>\n",
       "      <th>device_model</th>\n",
       "      <th>longitude</th>\n",
       "      <th>latitude</th>\n",
       "      <th>hour</th>\n",
       "      <th>1 free</th>\n",
       "      <th>1 reputation</th>\n",
       "      <th>A shares</th>\n",
       "      <th>Accounting</th>\n",
       "      <th>...</th>\n",
       "      <th>reading platform</th>\n",
       "      <th>service</th>\n",
       "      <th>stock</th>\n",
       "      <th>the film</th>\n",
       "      <th>tourism product</th>\n",
       "      <th>train</th>\n",
       "      <th>travel</th>\n",
       "      <th>unknown</th>\n",
       "      <th>video</th>\n",
       "      <th>weibo</th>\n",
       "    </tr>\n",
       "  </thead>\n",
       "  <tbody>\n",
       "    <tr>\n",
       "      <th>0</th>\n",
       "      <td>-6220210354783429585</td>\n",
       "      <td>4</td>\n",
       "      <td>74</td>\n",
       "      <td>0</td>\n",
       "      <td>0</td>\n",
       "      <td>7</td>\n",
       "      <td>15</td>\n",
       "      <td>0</td>\n",
       "      <td>10</td>\n",
       "      <td>0</td>\n",
       "      <td>...</td>\n",
       "      <td>11</td>\n",
       "      <td>0</td>\n",
       "      <td>10</td>\n",
       "      <td>0</td>\n",
       "      <td>0</td>\n",
       "      <td>0</td>\n",
       "      <td>0</td>\n",
       "      <td>19</td>\n",
       "      <td>24</td>\n",
       "      <td>0</td>\n",
       "    </tr>\n",
       "    <tr>\n",
       "      <th>9</th>\n",
       "      <td>289797889702373958</td>\n",
       "      <td>1</td>\n",
       "      <td>53</td>\n",
       "      <td>0</td>\n",
       "      <td>0</td>\n",
       "      <td>0</td>\n",
       "      <td>0</td>\n",
       "      <td>0</td>\n",
       "      <td>0</td>\n",
       "      <td>0</td>\n",
       "      <td>...</td>\n",
       "      <td>0</td>\n",
       "      <td>0</td>\n",
       "      <td>0</td>\n",
       "      <td>0</td>\n",
       "      <td>0</td>\n",
       "      <td>0</td>\n",
       "      <td>0</td>\n",
       "      <td>0</td>\n",
       "      <td>0</td>\n",
       "      <td>0</td>\n",
       "    </tr>\n",
       "    <tr>\n",
       "      <th>10</th>\n",
       "      <td>5751283639860028129</td>\n",
       "      <td>2</td>\n",
       "      <td>3</td>\n",
       "      <td>0</td>\n",
       "      <td>0</td>\n",
       "      <td>0</td>\n",
       "      <td>0</td>\n",
       "      <td>0</td>\n",
       "      <td>0</td>\n",
       "      <td>0</td>\n",
       "      <td>...</td>\n",
       "      <td>0</td>\n",
       "      <td>0</td>\n",
       "      <td>0</td>\n",
       "      <td>0</td>\n",
       "      <td>0</td>\n",
       "      <td>0</td>\n",
       "      <td>0</td>\n",
       "      <td>0</td>\n",
       "      <td>0</td>\n",
       "      <td>0</td>\n",
       "    </tr>\n",
       "    <tr>\n",
       "      <th>11</th>\n",
       "      <td>6261900729835972204</td>\n",
       "      <td>2</td>\n",
       "      <td>3</td>\n",
       "      <td>104</td>\n",
       "      <td>30</td>\n",
       "      <td>11</td>\n",
       "      <td>1</td>\n",
       "      <td>0</td>\n",
       "      <td>0</td>\n",
       "      <td>0</td>\n",
       "      <td>...</td>\n",
       "      <td>0</td>\n",
       "      <td>0</td>\n",
       "      <td>0</td>\n",
       "      <td>0</td>\n",
       "      <td>0</td>\n",
       "      <td>0</td>\n",
       "      <td>0</td>\n",
       "      <td>1</td>\n",
       "      <td>1</td>\n",
       "      <td>0</td>\n",
       "    </tr>\n",
       "    <tr>\n",
       "      <th>15</th>\n",
       "      <td>3790071869532760430</td>\n",
       "      <td>1</td>\n",
       "      <td>263</td>\n",
       "      <td>0</td>\n",
       "      <td>0</td>\n",
       "      <td>0</td>\n",
       "      <td>0</td>\n",
       "      <td>0</td>\n",
       "      <td>0</td>\n",
       "      <td>0</td>\n",
       "      <td>...</td>\n",
       "      <td>0</td>\n",
       "      <td>0</td>\n",
       "      <td>0</td>\n",
       "      <td>0</td>\n",
       "      <td>0</td>\n",
       "      <td>0</td>\n",
       "      <td>0</td>\n",
       "      <td>0</td>\n",
       "      <td>0</td>\n",
       "      <td>0</td>\n",
       "    </tr>\n",
       "  </tbody>\n",
       "</table>\n",
       "<p>5 rows × 106 columns</p>\n",
       "</div>"
      ],
      "text/plain": [
       "              device_id  phone_brand  device_model  longitude  latitude  hour  \\\n",
       "0  -6220210354783429585            4            74          0         0     7   \n",
       "9    289797889702373958            1            53          0         0     0   \n",
       "10  5751283639860028129            2             3          0         0     0   \n",
       "11  6261900729835972204            2             3        104        30    11   \n",
       "15  3790071869532760430            1           263          0         0     0   \n",
       "\n",
       "    1 free  1 reputation  A shares  Accounting  ...    reading platform  \\\n",
       "0       15             0        10           0  ...                  11   \n",
       "9        0             0         0           0  ...                   0   \n",
       "10       0             0         0           0  ...                   0   \n",
       "11       1             0         0           0  ...                   0   \n",
       "15       0             0         0           0  ...                   0   \n",
       "\n",
       "    service  stock  the film  tourism product  train  travel  unknown  video  \\\n",
       "0         0     10         0                0      0       0       19     24   \n",
       "9         0      0         0                0      0       0        0      0   \n",
       "10        0      0         0                0      0       0        0      0   \n",
       "11        0      0         0                0      0       0        1      1   \n",
       "15        0      0         0                0      0       0        0      0   \n",
       "\n",
       "    weibo  \n",
       "0       0  \n",
       "9       0  \n",
       "10      0  \n",
       "11      0  \n",
       "15      0  \n",
       "\n",
       "[5 rows x 106 columns]"
      ]
     },
     "execution_count": 12,
     "metadata": {},
     "output_type": "execute_result"
    }
   ],
   "source": [
    "#Podgląd tabeli\n",
    "Test_Set.head()"
   ]
  },
  {
   "cell_type": "markdown",
   "metadata": {},
   "source": [
    "### 5) Uczenie maszynowe "
   ]
  },
  {
   "cell_type": "code",
   "execution_count": 32,
   "metadata": {},
   "outputs": [],
   "source": [
    "#Wczytanie plików\n",
    "Train = pd.read_csv(source+'merge/Train_Set_cleaned.csv', sep=',')\n",
    "Test = pd.read_csv(source+'merge/Test_Set_cleaned.csv', sep=',')"
   ]
  },
  {
   "cell_type": "code",
   "execution_count": 41,
   "metadata": {},
   "outputs": [],
   "source": [
    "# przygotowanie wektorów do trenowania\n",
    "X_train = Train.drop(['device_id','group'], axis=1)\n",
    "Y_train = Train['group']\n",
    "# przygotowanie wektora testowego\n",
    "X_test = Test.drop('device_id', axis=1)"
   ]
  },
  {
   "cell_type": "code",
   "execution_count": 42,
   "metadata": {
    "scrolled": true
   },
   "outputs": [
    {
     "data": {
      "text/plain": [
       "((74645, 105), (74645,), (112071, 105))"
      ]
     },
     "execution_count": 42,
     "metadata": {},
     "output_type": "execute_result"
    }
   ],
   "source": [
    "# sprawdzenie poprawności macierzy\n",
    "X_train.shape, Y_train.shape, X_test.shape"
   ]
  },
  {
   "cell_type": "markdown",
   "metadata": {},
   "source": [
    "#### Nauka modelu algorytmem random forest "
   ]
  },
  {
   "cell_type": "code",
   "execution_count": 46,
   "metadata": {},
   "outputs": [
    {
     "data": {
      "text/plain": [
       "0.13944671444838905"
      ]
     },
     "execution_count": 46,
     "metadata": {},
     "output_type": "execute_result"
    }
   ],
   "source": [
    "# nauka modelu używając algorytmu regresji logistyczynej\n",
    "logreg = LogisticRegression()\n",
    "logreg.fit(X_train, Y_train)\n",
    "\n",
    "# podstawowa ocena modelu na podstawie średniej liczby obserwacji pozytywnych do wszystkich\n",
    "logreg.score(X_train, Y_train)"
   ]
  },
  {
   "cell_type": "code",
   "execution_count": 47,
   "metadata": {},
   "outputs": [
    {
     "data": {
      "text/plain": [
       "0.4445843659990622"
      ]
     },
     "execution_count": 47,
     "metadata": {},
     "output_type": "execute_result"
    }
   ],
   "source": [
    "# nauka modelu używają algorytmu random forest\n",
    "randforest = RandomForestClassifier()\n",
    "randforest.fit(X_train, Y_train)\n",
    "\n",
    "# podstawowa ocena modelu na podstawie średniej liczby obserwacji pozytywnych do wszystkich\n",
    "randforest.score(X_train, Y_train)"
   ]
  },
  {
   "cell_type": "code",
   "execution_count": 48,
   "metadata": {},
   "outputs": [
    {
     "data": {
      "text/plain": [
       "0.15986335320517114"
      ]
     },
     "execution_count": 48,
     "metadata": {},
     "output_type": "execute_result"
    }
   ],
   "source": [
    "# nauka modelu używają algorytmu ada boost\n",
    "adaboost = AdaBoostClassifier()\n",
    "adaboost.fit(X_train, Y_train)\n",
    "\n",
    "# podstawowa ocena modelu na podstawie średniej liczby obserwacji pozytywnych do wszystkich\n",
    "adaboost.score(X_train, Y_train)"
   ]
  },
  {
   "cell_type": "code",
   "execution_count": 49,
   "metadata": {},
   "outputs": [
    {
     "data": {
      "text/plain": [
       "0.20065644048496215"
      ]
     },
     "execution_count": 49,
     "metadata": {},
     "output_type": "execute_result"
    }
   ],
   "source": [
    "# nauka modelu używają algorytmu gradient boosting\n",
    "gradientboost = GradientBoostingClassifier()\n",
    "gradientboost.fit(X_train, Y_train)\n",
    "\n",
    "# podstawowa ocena modelu na podstawie średniej liczby obserwacji pozytywnych do wszystkich\n",
    "gradientboost.score(X_train, Y_train)"
   ]
  },
  {
   "cell_type": "code",
   "execution_count": null,
   "metadata": {},
   "outputs": [],
   "source": [
    "# nauka modelu używają algorytmu svc\n",
    "svc = SVC()\n",
    "svc.fit(X_train, Y_train)\n",
    "\n",
    "# podstawowa ocena modelu na podstawie średniej liczby obserwacji pozytywnych do wszystkich\n",
    "svc.score(X_train, Y_train)"
   ]
  },
  {
   "cell_type": "code",
   "execution_count": null,
   "metadata": {},
   "outputs": [],
   "source": [
    "# nauka modelu używają algorytmu k najbliższych sąsiadów\n",
    "kneigh = KNeighborsClassifier()\n",
    "kneigh.fit(X_train, Y_train)\n",
    "\n",
    "# podstawowa ocena modelu na podstawie średniej liczby obserwacji pozytywnych do wszystkich\n",
    "kneigh.score(X_train, Y_train)"
   ]
  },
  {
   "cell_type": "code",
   "execution_count": null,
   "metadata": {},
   "outputs": [],
   "source": []
  }
 ],
 "metadata": {
  "kernelspec": {
   "display_name": "Python 3",
   "language": "python",
   "name": "python3"
  },
  "language_info": {
   "codemirror_mode": {
    "name": "ipython",
    "version": 3
   },
   "file_extension": ".py",
   "mimetype": "text/x-python",
   "name": "python",
   "nbconvert_exporter": "python",
   "pygments_lexer": "ipython3",
   "version": "3.6.4"
  }
 },
 "nbformat": 4,
 "nbformat_minor": 2
}
